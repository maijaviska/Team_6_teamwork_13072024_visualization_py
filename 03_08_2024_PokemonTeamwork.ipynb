{
  "nbformat": 4,
  "nbformat_minor": 0,
  "metadata": {
    "colab": {
      "provenance": []
    },
    "kernelspec": {
      "name": "python3",
      "display_name": "Python 3"
    },
    "language_info": {
      "name": "python"
    }
  },
  "cells": [
    {
      "cell_type": "code",
      "execution_count": 49,
      "metadata": {
        "colab": {
          "base_uri": "https://localhost:8080/"
        },
        "id": "KzHrQJlWiNIG",
        "outputId": "6ae6aafa-1ea7-4c4b-9eb4-c4e4a0841a55"
      },
      "outputs": [
        {
          "output_type": "stream",
          "name": "stdout",
          "text": [
            "Percentage of Water type Pokémon: 14.00%\n",
            "The maximum Speed value is: 180\n",
            "The minimum Speed value is: 5\n",
            "The difference between the maximum and minimum Speed values is: 175\n",
            "Number of Pokémon with Speed >= 80: 296\n",
            "The Pokémon with the longest name is: KangaskhanMega Kangaskhan\n"
          ]
        }
      ],
      "source": [
        "\n",
        "\n",
        "import pandas as pd\n",
        "import matplotlib.pyplot as plt\n",
        "pokemon_df = pd.read_csv('/content/Pokemon.csv')\n",
        "\n",
        "total_pokemons = pokemon_df['Name'].nunique()\n",
        "pokemonsWater = pokemon_df[pokemon_df['Type 1'] == 'Water']\n",
        "num_water_pokemons = len(pokemonsWater)\n",
        "percentage_water = ( num_water_pokemons  / total_pokemons) * 100\n",
        "print(f\"Percentage of Water type Pokémon: {percentage_water:.2f}%\")\n",
        "\n",
        "#What is the maximum 'Speed' value? What is the minimum 'Speed' value? What is the difference between max and min 'Speed'?\n",
        "pokemon_df['Speed'].min()\n",
        "pokemon_df['Speed'].max()\n",
        "pokemonMinSpeed = pokemon_df['Speed'].min()\n",
        "pokemonMaxSpeed = pokemon_df['Speed'].max()\n",
        "speedDifference = pokemonMaxSpeed - pokemonMinSpeed\n",
        "print(f\"The maximum Speed value is: {pokemonMaxSpeed}\")\n",
        "print(f\"The minimum Speed value is: {pokemonMinSpeed}\")\n",
        "print(f\"The difference between the maximum and minimum Speed values is: {speedDifference}\")\n",
        "\n",
        "#Filter the DataFrame to include only the Pokémon with 'Speed' >= 80. How many Pokémon meet this criterion? Display this DataFrame using your preferred visualization method.\n",
        "pokemonWithSpeedMoreThan80 = pokemon_df[pokemon_df['Speed'] >= 80]\n",
        "print(f\"Number of Pokémon with Speed >= 80: {len(pokemonWithSpeedMoreThan80)}\")\n",
        "pokemonWithSpeedMoreThan80.head()\n",
        "\n",
        "#(DIFFICULT) Find Pokémon with the longest name (excluding spaces)? What is this pokemons name?\n",
        "\n",
        "longest_name = pokemon_df['Name'].str.replace(' ', '').str.len().idxmax()\n",
        "print(f\"The Pokémon with the longest name is: {pokemon_df.loc[longest_name, 'Name']}\" )\n"
      ]
    },
    {
      "cell_type": "code",
      "source": [],
      "metadata": {
        "id": "Q6eUb4G7tOE1"
      },
      "execution_count": null,
      "outputs": []
    }
  ]
}